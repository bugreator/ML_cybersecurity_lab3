{
  "nbformat": 4,
  "nbformat_minor": 0,
  "metadata": {
    "colab": {
      "name": "ml_lab3.ipynb",
      "provenance": [],
      "collapsed_sections": [],
      "machine_shape": "hm",
      "mount_file_id": "1N7TVCk6TYJy5Id74_D6mTxkYX1BQqB2G",
      "authorship_tag": "ABX9TyMsutEyvk+3lFr99zpstMTr",
      "include_colab_link": true
    },
    "kernelspec": {
      "name": "python3",
      "display_name": "Python 3"
    },
    "language_info": {
      "name": "python"
    },
    "accelerator": "GPU"
  },
  "cells": [
    {
      "cell_type": "markdown",
      "metadata": {
        "id": "view-in-github",
        "colab_type": "text"
      },
      "source": [
        "<a href=\"https://colab.research.google.com/github/jdshanbj/ML_cybersecurity_lab3/blob/main/ml_lab3.ipynb\" target=\"_parent\"><img src=\"https://colab.research.google.com/assets/colab-badge.svg\" alt=\"Open In Colab\"/></a>"
      ]
    },
    {
      "cell_type": "code",
      "execution_count": 1,
      "metadata": {
        "id": "beTvb6fmTL_f"
      },
      "outputs": [],
      "source": [
        "import tensorflow as tf\n",
        "import keras\n",
        "import keras.backend as K\n",
        "from keras import Model\n",
        "\n",
        "import h5py\n",
        "import numpy as np\n",
        "import matplotlib.pyplot as plt\n",
        "import os\n",
        "os.chdir(\"/content/drive/MyDrive/lab3\")"
      ]
    },
    {
      "cell_type": "markdown",
      "source": [
        "## load model and load data"
      ],
      "metadata": {
        "id": "TQECKYvsdglt"
      }
    },
    {
      "cell_type": "code",
      "source": [
        "cl_valid_path = './data/cl/valid.h5'\n",
        "cl_test_path = './data/cl/test.h5'\n",
        "bd_valid_path = './data/bd/bd_valid.h5'\n",
        "bd_test_path = './data/bd/bd_test.h5'\n",
        "bd_net_path = './models/bd_net.h5'\n",
        "\n",
        "\n",
        "def data_loader(filepath):\n",
        "    data = h5py.File(filepath, 'r')\n",
        "    x_data = np.array(data['data'])\n",
        "    y_data = np.array(data['label'])\n",
        "    x_data = x_data.transpose((0, 2, 3, 1))\n",
        "\n",
        "    return x_data, y_data\n",
        "\n"
      ],
      "metadata": {
        "id": "2gBTzVeUWw3j"
      },
      "execution_count": 2,
      "outputs": []
    },
    {
      "cell_type": "code",
      "source": [
        "cl_x_valid, cl_y_valid = data_loader(cl_valid_path)\n",
        "cl_x_test, cl_y_test = data_loader(cl_test_path)\n",
        "bd_x_valid, bd_y_valid = data_loader(bd_valid_path)\n",
        "bd_x_test, bd_y_test = data_loader(bd_test_path)\n",
        "net = keras.models.load_model(bd_net_path)"
      ],
      "metadata": {
        "id": "-PgaJtHOhb8W"
      },
      "execution_count": 3,
      "outputs": []
    },
    {
      "cell_type": "code",
      "source": [
        "# evaluate the net (from eval.py)\n",
        "def eval(net,cl_x_test,cl_y_test,bd_x_test,bd_y_test):\n",
        "  cl_label_p = np.argmax(bd_model.predict(cl_x_test), axis=1)\n",
        "  clean_accuracy = np.mean(np.equal(cl_label_p, cl_y_test))*100\n",
        "  print('Clean Classification accuracy:', clean_accuracy)\n",
        "  bd_label_p = np.argmax(bd_model.predict(bd_x_test), axis=1)\n",
        "  asr = np.mean(np.equal(bd_label_p, bd_y_test))*100\n",
        "\n",
        "  print('Attack Success Rate:', asr)\n",
        "  return clean_accuracy,asr"
      ],
      "metadata": {
        "id": "5iLh-fhZm_yr"
      },
      "execution_count": 4,
      "outputs": []
    },
    {
      "cell_type": "code",
      "source": [
        "print(net.summary())\n"
      ],
      "metadata": {
        "colab": {
          "base_uri": "https://localhost:8080/"
        },
        "id": "7Z7WJDwofemK",
        "outputId": "0164d73c-4276-43b9-a9ab-36a983352c45"
      },
      "execution_count": 5,
      "outputs": [
        {
          "output_type": "stream",
          "name": "stdout",
          "text": [
            "Model: \"model_1\"\n",
            "__________________________________________________________________________________________________\n",
            " Layer (type)                   Output Shape         Param #     Connected to                     \n",
            "==================================================================================================\n",
            " input (InputLayer)             [(None, 55, 47, 3)]  0           []                               \n",
            "                                                                                                  \n",
            " conv_1 (Conv2D)                (None, 52, 44, 20)   980         ['input[0][0]']                  \n",
            "                                                                                                  \n",
            " pool_1 (MaxPooling2D)          (None, 26, 22, 20)   0           ['conv_1[0][0]']                 \n",
            "                                                                                                  \n",
            " conv_2 (Conv2D)                (None, 24, 20, 40)   7240        ['pool_1[0][0]']                 \n",
            "                                                                                                  \n",
            " pool_2 (MaxPooling2D)          (None, 12, 10, 40)   0           ['conv_2[0][0]']                 \n",
            "                                                                                                  \n",
            " conv_3 (Conv2D)                (None, 10, 8, 60)    21660       ['pool_2[0][0]']                 \n",
            "                                                                                                  \n",
            " pool_3 (MaxPooling2D)          (None, 5, 4, 60)     0           ['conv_3[0][0]']                 \n",
            "                                                                                                  \n",
            " conv_4 (Conv2D)                (None, 4, 3, 80)     19280       ['pool_3[0][0]']                 \n",
            "                                                                                                  \n",
            " flatten_1 (Flatten)            (None, 1200)         0           ['pool_3[0][0]']                 \n",
            "                                                                                                  \n",
            " flatten_2 (Flatten)            (None, 960)          0           ['conv_4[0][0]']                 \n",
            "                                                                                                  \n",
            " fc_1 (Dense)                   (None, 160)          192160      ['flatten_1[0][0]']              \n",
            "                                                                                                  \n",
            " fc_2 (Dense)                   (None, 160)          153760      ['flatten_2[0][0]']              \n",
            "                                                                                                  \n",
            " add_1 (Add)                    (None, 160)          0           ['fc_1[0][0]',                   \n",
            "                                                                  'fc_2[0][0]']                   \n",
            "                                                                                                  \n",
            " activation_1 (Activation)      (None, 160)          0           ['add_1[0][0]']                  \n",
            "                                                                                                  \n",
            " output (Dense)                 (None, 1283)         206563      ['activation_1[0][0]']           \n",
            "                                                                                                  \n",
            "==================================================================================================\n",
            "Total params: 601,643\n",
            "Trainable params: 601,643\n",
            "Non-trainable params: 0\n",
            "__________________________________________________________________________________________________\n",
            "None\n"
          ]
        }
      ]
    },
    {
      "cell_type": "code",
      "source": [
        "!python eval.py data/cl/test.h5 data/bd/bd_test.h5 models/bd_net.h5"
      ],
      "metadata": {
        "colab": {
          "base_uri": "https://localhost:8080/"
        },
        "id": "DOGFgk7Ghsns",
        "outputId": "03ca621a-81be-496e-f003-c623a80487b7"
      },
      "execution_count": 6,
      "outputs": [
        {
          "output_type": "stream",
          "name": "stdout",
          "text": [
            "2021-12-17 00:36:19.433229: W tensorflow/core/common_runtime/gpu/gpu_bfc_allocator.cc:39] Overriding allow_growth setting because the TF_FORCE_GPU_ALLOW_GROWTH environment variable is set. Original config value was 0.\n",
            "Clean Classification accuracy: 98.62042088854248\n",
            "Attack Success Rate: 100.0\n"
          ]
        }
      ]
    },
    {
      "cell_type": "markdown",
      "source": [
        "## repair B-Net\n"
      ],
      "metadata": {
        "id": "N6lduD4gibTm"
      }
    },
    {
      "cell_type": "markdown",
      "source": [
        "The main idea is to get the output of layer before the last maxpooling layer which is layer conv_3. Prune the layer's channel based on the increasing order of the average outputover the entire validation dataset."
      ],
      "metadata": {
        "id": "NAd9lXXFiios"
      }
    },
    {
      "cell_type": "markdown",
      "source": [
        "### New net: we want to get the netpart before layer pool_3"
      ],
      "metadata": {
        "id": "KTWAjSTYfJiB"
      }
    },
    {
      "cell_type": "code",
      "source": [
        "# The network finished \n",
        "# model_pool_3 = keras.Model(net.input,net.get_layer(\"pool_3\").output)\n",
        "# model_pool_3.summary()\n",
        "\n",
        "model_conv_3 = keras.Model(net.input,net.get_layer(\"conv_3\").output)\n",
        "model_conv_3.summary()\n"
      ],
      "metadata": {
        "colab": {
          "base_uri": "https://localhost:8080/"
        },
        "id": "2aNSLkrGexM0",
        "outputId": "83d0f8b5-392b-452c-adba-0de6c6051d43"
      },
      "execution_count": 7,
      "outputs": [
        {
          "output_type": "stream",
          "name": "stdout",
          "text": [
            "Model: \"model\"\n",
            "_________________________________________________________________\n",
            " Layer (type)                Output Shape              Param #   \n",
            "=================================================================\n",
            " input (InputLayer)          [(None, 55, 47, 3)]       0         \n",
            "                                                                 \n",
            " conv_1 (Conv2D)             (None, 52, 44, 20)        980       \n",
            "                                                                 \n",
            " pool_1 (MaxPooling2D)       (None, 26, 22, 20)        0         \n",
            "                                                                 \n",
            " conv_2 (Conv2D)             (None, 24, 20, 40)        7240      \n",
            "                                                                 \n",
            " pool_2 (MaxPooling2D)       (None, 12, 10, 40)        0         \n",
            "                                                                 \n",
            " conv_3 (Conv2D)             (None, 10, 8, 60)         21660     \n",
            "                                                                 \n",
            "=================================================================\n",
            "Total params: 29,880\n",
            "Trainable params: 29,880\n",
            "Non-trainable params: 0\n",
            "_________________________________________________________________\n"
          ]
        }
      ]
    },
    {
      "cell_type": "code",
      "source": [
        "# get the sort over cl_x_valid\n",
        "predict_output = model_conv_3.predict(cl_x_valid)\n",
        "# print(predict_output.shape)\n",
        "predict_output_mean = predict_output.mean(axis=(0,1,2))\n",
        "prune_sort = np.argsort(predict_output_mean)"
      ],
      "metadata": {
        "id": "nb1a07_rm3Fv"
      },
      "execution_count": 8,
      "outputs": []
    },
    {
      "cell_type": "code",
      "source": [
        "print(\"prune order:\", prune_sort)"
      ],
      "metadata": {
        "colab": {
          "base_uri": "https://localhost:8080/"
        },
        "id": "qim0Y-bkxqep",
        "outputId": "93b13829-ea2a-46b6-b7be-4da0b63a040e"
      },
      "execution_count": 9,
      "outputs": [
        {
          "output_type": "stream",
          "name": "stdout",
          "text": [
            "prune order: [ 0 26 27 30 31 33 34 36 37 38 25 39 41 44 45 47 48 49 50 53 55 40 24 59\n",
            "  9  2 12 13 17 14 15 23  6 51 32 22 21 20 19 43  3 58 42  1 29 16  5 56\n",
            "  8 11 46 54 10  4 18  7 28 35 52 57]\n"
          ]
        }
      ]
    },
    {
      "cell_type": "code",
      "source": [
        "# pruned_layer = net_pruned.get_layer('conv_3')\n",
        "# w,b = pruned_layer.get_weights()\n",
        "# print(w.shape,b.shape)\n",
        "# print(w,b)\n",
        "# id=0\n",
        "# w[:,:,:,prune_sort[id]]=0\n",
        "# b[prune_sort[id]]=0\n",
        "# print(w,b)"
      ],
      "metadata": {
        "id": "dmdt5wWJ4svY"
      },
      "execution_count": 10,
      "outputs": []
    },
    {
      "cell_type": "code",
      "source": [
        "class G(Model):\n",
        "  def __init__(self, bd_model, bd_model_pruned):\n",
        "    super(G, self).__init__()\n",
        "    self.bd_model = bd_model\n",
        "    self.bd_model_pruned = bd_model_pruned\n",
        "\n",
        "  def predict(self, x):\n",
        "    bd_model_pred = np.argmax(self.bd_model.predict(x), axis=1)\n",
        "    bd_model_pruned_pred = np.argmax(self.bd_model_pruned.predict(x), axis=1)\n",
        "    pred = np.zeros(len(bd_model_pred))\n",
        "    for j in range(len(bd_model_pred)):\n",
        "      if(bd_model_pruned_pred[j]==bd_model_pred[j]):\n",
        "        pred[j]=bd_model_pred[j]\n",
        "      else:\n",
        "        pred[j]=1283\n",
        "    return pred\n",
        "\n",
        "def calculate_acc_asr(gd_model, cl_x_test, cl_y_test, bd_x_test, bd_y_test):\n",
        "  cl_label_p = gd_model.predict(cl_x_test)\n",
        "  clean_accuracy = np.mean(np.equal(cl_label_p, cl_y_test))*100\n",
        "\n",
        "  bd_label_p = gd_model.predict(bd_x_test)\n",
        "  asr = np.mean(np.equal(bd_label_p, bd_y_test))*100\n",
        "  return clean_accuracy, asr\n",
        "\n",
        "\n",
        "  \n",
        "def acc(predict,target):\n",
        "  accuracy = np.mean(np.equal(predict, target) )*100\n",
        "  return accuracy"
      ],
      "metadata": {
        "id": "QT8qq_p5YNbk"
      },
      "execution_count": 11,
      "outputs": []
    },
    {
      "cell_type": "code",
      "source": [
        "pruned_net = keras.models.load_model(bd_net_path)\n",
        "net = keras.models.load_model(bd_net_path)\n",
        "# net is the original net\n",
        "\n",
        "original_acc = 98.64899974019225\n",
        "cl_classification_accuracy_valid_list = []\n",
        "cl_classification_accuracy_test_list = []\n",
        "attack_success_rate = []\n",
        "\n",
        "trigger = np.ones(3) # record after 2%, 4%, 10%\n",
        "ratio_list = np.array([2,4,10])\n",
        "\n",
        "for i in range(len(prune_sort)):\n",
        "  pruned_layer = pruned_net.get_layer('conv_3')\n",
        "  w,b = pruned_layer.get_weights()\n",
        "  # prune the current channel\n",
        "  w[:,:,:,prune_sort[i]]=0\n",
        "  b[prune_sort[i]]=0\n",
        "  pruned_layer.set_weights((w,b))\n",
        "  # test the current accuracy\n",
        "\n",
        "  cl_y_valid_predict = np.argmax(pruned_net.predict(cl_x_valid),axis=1)\n",
        "  \n",
        "  val_acc = acc(cl_y_valid_predict,cl_y_valid)\n",
        "  cl_classification_accuracy_valid_list.append(val_acc)\n",
        "  ratio = 1-val_acc/original_acc\n",
        "  print(\"prune round\",i+1,\"accuracy on valid:\",val_acc)\n",
        "\n",
        "  for j in range(len(ratio_list)):\n",
        "    if(ratio*100 > ratio_list[j] and trigger[j]==1):\n",
        "      pruned_net.save('./models/prune_net_'+'ratio'+str(ratio_list[j])+'.h5')\n",
        "      trigger[j]=0\n",
        "  \n",
        "  # goodnet =est_asr G(net,pruned_net)\n",
        "\n",
        "  # test_acc, t = calculate_acc_asr(goodnet, cl_x_test, cl_y_test, bd_x_test, bd_y_test)\n",
        "\n",
        "    \n",
        "  cl_net_pred = np.argmax(net.predict(cl_x_test), axis=1)\n",
        "  cl_pruned_net_pred = np.argmax(pruned_net.predict(cl_x_test), axis=1)\n",
        "  cl_pred = np.zeros(len(cl_net_pred))\n",
        "  for j in range(len(cl_pruned_net_pred)):\n",
        "    if(cl_net_pred[j]==cl_pruned_net_pred[j]):\n",
        "      cl_pred[j]=cl_net_pred[j]\n",
        "    else:\n",
        "      cl_pred[j]=1283\n",
        "\n",
        "  test_acc = np.mean(np.equal(cl_pred, cl_y_test))*100\n",
        "\n",
        "\n",
        "  bd_net_pred = np.argmax(net.predict(bd_x_test), axis=1)\n",
        "  bd_pruned_net_pred = np.argmax(pruned_net.predict(bd_x_test), axis=1)\n",
        "  bd_pred = np.zeros(len(bd_net_pred))\n",
        "  for j in range(len(bd_pruned_net_pred)):\n",
        "    if(bd_net_pred[j]==bd_pruned_net_pred[j]):\n",
        "      bd_pred[j]=bd_net_pred[j]\n",
        "    else:\n",
        "      bd_pred[j]=1283\n",
        "\n",
        "\n",
        "  \n",
        "  test_asr = np.mean(np.equal(bd_pred, bd_y_test))*100\n",
        "\n",
        "\n",
        "\n",
        "  cl_classification_accuracy_test_list.append(test_acc)\n",
        "  attack_success_rate.append(test_asr)\n",
        "  print(\"clean test classification accuracy is:\", test_acc,\"attack success rate is\",test_asr)\n"
      ],
      "metadata": {
        "colab": {
          "base_uri": "https://localhost:8080/"
        },
        "id": "EJd3E8bvzBi_",
        "outputId": "ff0e23e4-2275-43f7-aa50-2c18e0468314"
      },
      "execution_count": 13,
      "outputs": [
        {
          "output_type": "stream",
          "name": "stdout",
          "text": [
            "prune round 1 accuracy on valid: 98.64899974019225\n",
            "clean test classification accuracy is: 98.62042088854248 attack success rate is 100.0\n",
            "prune round 2 accuracy on valid: 98.64899974019225\n",
            "clean test classification accuracy is: 98.62042088854248 attack success rate is 100.0\n",
            "prune round 3 accuracy on valid: 98.64899974019225\n",
            "clean test classification accuracy is: 98.62042088854248 attack success rate is 100.0\n",
            "prune round 4 accuracy on valid: 98.64899974019225\n",
            "clean test classification accuracy is: 98.62042088854248 attack success rate is 100.0\n",
            "prune round 5 accuracy on valid: 98.64899974019225\n",
            "clean test classification accuracy is: 98.62042088854248 attack success rate is 100.0\n",
            "prune round 6 accuracy on valid: 98.64899974019225\n",
            "clean test classification accuracy is: 98.62042088854248 attack success rate is 100.0\n",
            "prune round 7 accuracy on valid: 98.64899974019225\n",
            "clean test classification accuracy is: 98.62042088854248 attack success rate is 100.0\n",
            "prune round 8 accuracy on valid: 98.64899974019225\n",
            "clean test classification accuracy is: 98.62042088854248 attack success rate is 100.0\n",
            "prune round 9 accuracy on valid: 98.64899974019225\n",
            "clean test classification accuracy is: 98.62042088854248 attack success rate is 100.0\n",
            "prune round 10 accuracy on valid: 98.64899974019225\n",
            "clean test classification accuracy is: 98.62042088854248 attack success rate is 100.0\n",
            "prune round 11 accuracy on valid: 98.64899974019225\n",
            "clean test classification accuracy is: 98.62042088854248 attack success rate is 100.0\n",
            "prune round 12 accuracy on valid: 98.64899974019225\n",
            "clean test classification accuracy is: 98.62042088854248 attack success rate is 100.0\n",
            "prune round 13 accuracy on valid: 98.64899974019225\n",
            "clean test classification accuracy is: 98.62042088854248 attack success rate is 100.0\n",
            "prune round 14 accuracy on valid: 98.64899974019225\n",
            "clean test classification accuracy is: 98.62042088854248 attack success rate is 100.0\n",
            "prune round 15 accuracy on valid: 98.64899974019225\n",
            "clean test classification accuracy is: 98.62042088854248 attack success rate is 100.0\n",
            "prune round 16 accuracy on valid: 98.64899974019225\n",
            "clean test classification accuracy is: 98.62042088854248 attack success rate is 100.0\n",
            "prune round 17 accuracy on valid: 98.64899974019225\n",
            "clean test classification accuracy is: 98.62042088854248 attack success rate is 100.0\n",
            "prune round 18 accuracy on valid: 98.64899974019225\n",
            "clean test classification accuracy is: 98.62042088854248 attack success rate is 100.0\n",
            "prune round 19 accuracy on valid: 98.64899974019225\n",
            "clean test classification accuracy is: 98.62042088854248 attack success rate is 100.0\n",
            "prune round 20 accuracy on valid: 98.64899974019225\n",
            "clean test classification accuracy is: 98.62042088854248 attack success rate is 100.0\n",
            "prune round 21 accuracy on valid: 98.64899974019225\n",
            "clean test classification accuracy is: 98.62042088854248 attack success rate is 100.0\n",
            "prune round 22 accuracy on valid: 98.64899974019225\n",
            "clean test classification accuracy is: 98.62042088854248 attack success rate is 100.0\n",
            "prune round 23 accuracy on valid: 98.64899974019225\n",
            "clean test classification accuracy is: 98.62042088854248 attack success rate is 100.0\n",
            "prune round 24 accuracy on valid: 98.64899974019225\n",
            "clean test classification accuracy is: 98.62042088854248 attack success rate is 100.0\n",
            "prune round 25 accuracy on valid: 98.64899974019225\n",
            "clean test classification accuracy is: 98.62042088854248 attack success rate is 100.0\n",
            "prune round 26 accuracy on valid: 98.64899974019225\n",
            "clean test classification accuracy is: 98.62042088854248 attack success rate is 100.0\n",
            "prune round 27 accuracy on valid: 98.64899974019225\n",
            "clean test classification accuracy is: 98.62042088854248 attack success rate is 100.0\n",
            "prune round 28 accuracy on valid: 98.64899974019225\n",
            "clean test classification accuracy is: 98.62042088854248 attack success rate is 100.0\n",
            "prune round 29 accuracy on valid: 98.64899974019225\n",
            "clean test classification accuracy is: 98.62042088854248 attack success rate is 100.0\n",
            "prune round 30 accuracy on valid: 98.64899974019225\n",
            "clean test classification accuracy is: 98.62042088854248 attack success rate is 100.0\n",
            "prune round 31 accuracy on valid: 98.64899974019225\n",
            "clean test classification accuracy is: 98.62042088854248 attack success rate is 100.0\n",
            "prune round 32 accuracy on valid: 98.64899974019225\n",
            "clean test classification accuracy is: 98.62042088854248 attack success rate is 100.0\n",
            "prune round 33 accuracy on valid: 98.64899974019225\n",
            "clean test classification accuracy is: 98.62042088854248 attack success rate is 100.0\n",
            "prune round 34 accuracy on valid: 98.64033948211657\n",
            "clean test classification accuracy is: 98.61262665627436 attack success rate is 100.0\n",
            "prune round 35 accuracy on valid: 98.64033948211657\n",
            "clean test classification accuracy is: 98.60483242400623 attack success rate is 100.0\n",
            "prune round 36 accuracy on valid: 98.63167922404088\n",
            "clean test classification accuracy is: 98.59703819173812 attack success rate is 100.0\n",
            "prune round 37 accuracy on valid: 98.65765999826795\n",
            "clean test classification accuracy is: 98.59703819173812 attack success rate is 100.0\n",
            "prune round 38 accuracy on valid: 98.64899974019225\n",
            "clean test classification accuracy is: 98.57365549493376 attack success rate is 100.0\n",
            "prune round 39 accuracy on valid: 98.6056984498138\n",
            "clean test classification accuracy is: 98.52689010132501 attack success rate is 100.0\n",
            "prune round 40 accuracy on valid: 98.57105741751104\n",
            "clean test classification accuracy is: 98.44115354637569 attack success rate is 100.0\n",
            "prune round 41 accuracy on valid: 98.25062786871048\n",
            "clean test classification accuracy is: 98.15276695245518 attack success rate is 100.0\n",
            "prune round 42 accuracy on valid: 98.19000606218066\n",
            "clean test classification accuracy is: 98.11379579111458 attack success rate is 100.0\n",
            "prune round 43 accuracy on valid: 97.65307006148784\n",
            "clean test classification accuracy is: 97.74746687451285 attack success rate is 100.0\n",
            "prune round 44 accuracy on valid: 97.50584567420108\n",
            "clean test classification accuracy is: 97.50584567420108 attack success rate is 100.0\n",
            "prune round 45 accuracy on valid: 95.75647354291158\n"
          ]
        },
        {
          "output_type": "stream",
          "name": "stderr",
          "text": [
            "/usr/local/lib/python3.7/dist-packages/keras/engine/functional.py:1410: CustomMaskWarning: Custom mask layers require a config and must override get_config. When loading, the custom mask layer must be passed to the custom_objects argument.\n",
            "  layer_config = serialize_layer_fn(layer)\n"
          ]
        },
        {
          "output_type": "stream",
          "name": "stdout",
          "text": [
            "clean test classification accuracy is: 95.74434918160561 attack success rate is 100.0\n",
            "prune round 46 accuracy on valid: 95.20221702606739\n",
            "clean test classification accuracy is: 95.34684333593141 attack success rate is 99.97661730319564\n",
            "prune round 47 accuracy on valid: 94.77786438035854\n",
            "clean test classification accuracy is: 95.03507404520654 attack success rate is 99.97661730319564\n",
            "prune round 48 accuracy on valid: 94.344851476574\n",
            "clean test classification accuracy is: 94.57521434138737 attack success rate is 99.98441153546376\n",
            "prune round 49 accuracy on valid: 93.85121676625964\n",
            "clean test classification accuracy is: 94.00623538581449 attack success rate is 99.97661730319564\n",
            "prune round 50 accuracy on valid: 92.16246644149996\n",
            "clean test classification accuracy is: 92.33047544816836 attack success rate is 80.576773187841\n",
            "prune round 51 accuracy on valid: 89.17467740538669\n",
            "clean test classification accuracy is: 89.68043647700702 attack success rate is 80.6469212782541\n",
            "prune round 52 accuracy on valid: 84.43751623798389\n",
            "clean test classification accuracy is: 84.3335931410756 attack success rate is 77.20966484801247\n",
            "prune round 53 accuracy on valid: 76.48739932449988\n",
            "clean test classification accuracy is: 76.16523772408418 attack success rate is 36.26656274356976\n",
            "prune round 54 accuracy on valid: 45.6915216073439\n",
            "clean test classification accuracy is: 44.551831644583004 attack success rate is 16.03273577552611\n",
            "prune round 55 accuracy on valid: 28.15449900407032\n",
            "clean test classification accuracy is: 27.82540919719408 attack success rate is 3.72564302416212\n",
            "prune round 56 accuracy on valid: 13.795791114575215\n",
            "clean test classification accuracy is: 13.811379579111458 attack success rate is 16.399064692127826\n",
            "prune round 57 accuracy on valid: 5.81103316878843\n",
            "clean test classification accuracy is: 5.720966484801247 attack success rate is 0.303975058456742\n",
            "prune round 58 accuracy on valid: 1.5501861955486274\n",
            "clean test classification accuracy is: 1.5198752922837102 attack success rate is 0.0\n",
            "prune round 59 accuracy on valid: 0.7188014202823244\n",
            "clean test classification accuracy is: 0.646921278254092 attack success rate is 0.0\n",
            "prune round 60 accuracy on valid: 0.0779423226812159\n",
            "clean test classification accuracy is: 0.0701480904130943 attack success rate is 0.0\n"
          ]
        }
      ]
    },
    {
      "cell_type": "markdown",
      "source": [
        "show the result on valid and test dataset"
      ],
      "metadata": {
        "id": "GKC-cQvLpswM"
      }
    },
    {
      "cell_type": "code",
      "source": [
        "plt.figure(figsize=(15,10))\n",
        "plt.plot(cl_classification_accuracy_valid_list,label=\"accuracy on the valid dataset\")\n",
        "plt.legend()\n",
        "# cl_classification_accuracy_valid_list = []\n",
        "# cl_classification_accuracy_test_list = []\n",
        "# attack_success_rate = []"
      ],
      "metadata": {
        "colab": {
          "base_uri": "https://localhost:8080/",
          "height": 610
        },
        "id": "gZNWtp2wpr7i",
        "outputId": "c9299f86-807c-4e9b-fdef-b3d2be1d060b"
      },
      "execution_count": 14,
      "outputs": [
        {
          "output_type": "execute_result",
          "data": {
            "text/plain": [
              "<matplotlib.legend.Legend at 0x7f84fe1226d0>"
            ]
          },
          "metadata": {},
          "execution_count": 14
        },
        {
          "output_type": "display_data",
          "data": {
            "image/png": "[encoded data removed]",
            "text/plain": [
              "<Figure size 1080x720 with 1 Axes>"
            ]
          },
          "metadata": {
            "needs_background": "light"
          }
        }
      ]
    },
    {
      "cell_type": "code",
      "source": [
        "plt.figure(figsize=(15,10))\n",
        "plt.plot(cl_classification_accuracy_test_list,label=\"accuracy on the test dataset\")\n",
        "plt.plot(attack_success_rate, label=\"attack success rate\")\n",
        "plt.legend()"
      ],
      "metadata": {
        "colab": {
          "base_uri": "https://localhost:8080/",
          "height": 610
        },
        "id": "nBQwNgZ0qDp2",
        "outputId": "862e6546-8095-4cc1-ea87-01c57c95f667"
      },
      "execution_count": 15,
      "outputs": [
        {
          "output_type": "execute_result",
          "data": {
            "text/plain": [
              "<matplotlib.legend.Legend at 0x7f85f883ae10>"
            ]
          },
          "metadata": {},
          "execution_count": 15
        },
        {
          "output_type": "display_data",
          "data": {
            "image/png": "[encoded data removed]",
            "text/plain": [
              "<Figure size 1080x720 with 1 Axes>"
            ]
          },
          "metadata": {
            "needs_background": "light"
          }
        }
      ]
    },
    {
      "cell_type": "markdown",
      "source": [
        "## evaluate the three good net"
      ],
      "metadata": {
        "id": "15R_m7GDqwWD"
      }
    },
    {
      "cell_type": "code",
      "source": [
        "bd_net = keras.models.load_model(bd_net_path)\n",
        "for i in range(len(ratio_list)):\n",
        "  path = \"./models/prune_net_ratio\"+str(ratio_list[i])+\".h5\"\n",
        "  pruned_bd_net = keras.models.load_model(path)\n",
        "  cl_net_pred = np.argmax(bd_net.predict(cl_x_test), axis=1)\n",
        "  cl_pruned_net_pred = np.argmax(pruned_bd_net.predict(cl_x_test), axis=1)\n",
        "  cl_pred = np.zeros(len(cl_net_pred))\n",
        "  for j in range(len(cl_pruned_net_pred)):\n",
        "    if(cl_net_pred[j]==cl_pruned_net_pred[j]):\n",
        "      cl_pred[j]=cl_net_pred[j]\n",
        "    else:\n",
        "      cl_pred[j]=1283\n",
        "\n",
        "  test_acc = np.mean(np.equal(cl_pred, cl_y_test))*100\n",
        "\n",
        "\n",
        "  bd_net_pred = np.argmax(bd_net.predict(bd_x_test), axis=1)\n",
        "  bd_pruned_net_pred = np.argmax(pruned_bd_net.predict(bd_x_test), axis=1)\n",
        "  bd_pred = np.zeros(len(bd_net_pred))\n",
        "  for j in range(len(bd_pruned_net_pred)):\n",
        "    if(bd_net_pred[j]==bd_pruned_net_pred[j]):\n",
        "      bd_pred[j]=bd_net_pred[j]\n",
        "    else:\n",
        "      bd_pred[j]=1283\n",
        "\n",
        "\n",
        "  \n",
        "  test_asr = np.mean(np.equal(bd_pred, bd_y_test))*100\n",
        "  print(\"When X =\",ratio_list[i],\"%\",\"clean test classification accuracy is:\", test_acc,\"attack success rate is\",test_asr)\n",
        "\n"
      ],
      "metadata": {
        "colab": {
          "base_uri": "https://localhost:8080/"
        },
        "id": "g59v-x_bq-qx",
        "outputId": "0ba81c38-62f9-4d17-99f4-dba2a1f431e3"
      },
      "execution_count": 19,
      "outputs": [
        {
          "output_type": "stream",
          "name": "stdout",
          "text": [
            "When X = 2 % clean test classification accuracy is: 95.74434918160561 attack success rate is 100.0\n",
            "When X = 4 % clean test classification accuracy is: 94.57521434138737 attack success rate is 99.98441153546376\n",
            "When X = 10 % clean test classification accuracy is: 84.3335931410756 attack success rate is 77.20966484801247\n"
          ]
        }
      ]
    },
    {
      "cell_type": "markdown",
      "source": [
        ""
      ],
      "metadata": {
        "id": "UZxEJ8Fb8UkN"
      }
    }
  ]
}